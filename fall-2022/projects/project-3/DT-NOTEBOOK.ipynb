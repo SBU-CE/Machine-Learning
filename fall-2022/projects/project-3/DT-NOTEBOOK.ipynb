{
 "cells": [
  {
   "cell_type": "markdown",
   "id": "248d47b6",
   "metadata": {},
   "source": [
    "**FILL THIS SECTION BY YOUR NAME AND STUDENT CODE** : \n",
    "\n",
    "- NAME : \n",
    "- STUDENT CODE :"
   ]
  },
  {
   "cell_type": "code",
   "execution_count": null,
   "id": "e5feaada",
   "metadata": {},
   "outputs": [],
   "source": [
    "import pandas as pd\n",
    "import numpy as np\n",
    "# IMPORT MORE MODULES IF YOU WANT"
   ]
  },
  {
   "cell_type": "markdown",
   "id": "2a6345e1",
   "metadata": {},
   "source": [
    "### Read Dataset"
   ]
  },
  {
   "cell_type": "markdown",
   "id": "b3590571",
   "metadata": {},
   "source": [
    "Read the dataset in this section."
   ]
  },
  {
   "cell_type": "code",
   "execution_count": null,
   "id": "7248c704",
   "metadata": {},
   "outputs": [],
   "source": [
    "# FILL HERE"
   ]
  },
  {
   "cell_type": "markdown",
   "id": "73c1c685",
   "metadata": {},
   "source": [
    "### Prepare Dataset"
   ]
  },
  {
   "cell_type": "markdown",
   "id": "b4a6a064",
   "metadata": {},
   "source": [
    "First of all, search for missing values in the dataset. if there are missing values, handle them however you want."
   ]
  },
  {
   "cell_type": "code",
   "execution_count": null,
   "id": "18ad824e",
   "metadata": {},
   "outputs": [],
   "source": [
    "# FILL HERE"
   ]
  },
  {
   "cell_type": "markdown",
   "id": "20d75210",
   "metadata": {},
   "source": [
    "Then, read the dataset catalog. There are some categorical features with the \"int\" type. Encode these features so that you can distinguish between numerical and categorical features."
   ]
  },
  {
   "cell_type": "code",
   "execution_count": null,
   "id": "25de8d0c",
   "metadata": {},
   "outputs": [],
   "source": [
    "# FILL HERE"
   ]
  },
  {
   "cell_type": "markdown",
   "id": "ac80b358",
   "metadata": {},
   "source": [
    "### Declare feature vector and target variable"
   ]
  },
  {
   "cell_type": "markdown",
   "id": "fd380b7b",
   "metadata": {},
   "source": [
    "Here, you are supposed to convert pandas data frame into feature vectors and target variables"
   ]
  },
  {
   "cell_type": "code",
   "execution_count": null,
   "id": "dc35fe6c",
   "metadata": {},
   "outputs": [],
   "source": [
    "X = # FILL HERE\n",
    "y = # FILL HERE"
   ]
  },
  {
   "cell_type": "markdown",
   "id": "526a17a0",
   "metadata": {},
   "source": [
    "### Split data into separate training and test set"
   ]
  },
  {
   "cell_type": "markdown",
   "id": "e25fd9b6",
   "metadata": {},
   "source": [
    "Now it's time to split X and y into separate training and test set. You can use the sklearn library for this section."
   ]
  },
  {
   "cell_type": "code",
   "execution_count": null,
   "id": "1dacf4c9",
   "metadata": {},
   "outputs": [],
   "source": [
    "# FILL HERE"
   ]
  },
  {
   "cell_type": "markdown",
   "id": "d6555b74",
   "metadata": {},
   "source": [
    "## Implement desicion tree algorithm"
   ]
  },
  {
   "cell_type": "markdown",
   "id": "c339be89",
   "metadata": {},
   "source": [
    "In this cell, you are going to implement your decision tree. Feel free to add more arguments to functions or add your desired functions."
   ]
  },
  {
   "cell_type": "code",
   "execution_count": null,
   "id": "b689aee8",
   "metadata": {},
   "outputs": [],
   "source": [
    "class DecisionTree:\n",
    "     \n",
    "    def __init__(self, criterion=\"entropy\", max_depth=None):\n",
    "        \"\"\"\n",
    "        Parameters:\n",
    "        \n",
    "        criterion -- “gini” for the Gini impurity and “entropy” for the information gain. (default “entropy”)\n",
    "        max_depth -- The maximum depth of the tree. If None, then nodes are expanded until all leaves are pure. (default=None)\n",
    "        \"\"\"\n",
    "        # FILL HERE\n",
    "        pass\n",
    "    \n",
    "    def fit(self, X, y):\n",
    "        \"\"\"\n",
    "        Build a decision tree classifier from the training set (X, y).\n",
    "\n",
    "        Returns:\n",
    "        self : Fitted estimator\n",
    "        \"\"\"\n",
    "        # FILL HERE\n",
    "        return self\n",
    "    \n",
    "    def predict(self, X):\n",
    "        \"\"\"\n",
    "        Predict class value for X.\n",
    "\n",
    "        Returns:\n",
    "        y : The predicted classes\n",
    "        \"\"\"\n",
    "        y = []\n",
    "        # FILL HERE\n",
    "        return y"
   ]
  },
  {
   "cell_type": "markdown",
   "id": "c267b831",
   "metadata": {},
   "source": [
    "### Part 1 : Compare Gini and Entropy "
   ]
  },
  {
   "cell_type": "code",
   "execution_count": null,
   "id": "511ec5db",
   "metadata": {},
   "outputs": [],
   "source": [
    "dt_gini = DecisionTree(criterion='gini',)\n",
    "dt_entropy = DecisionTree(criterion='entropy',)"
   ]
  },
  {
   "cell_type": "markdown",
   "id": "0bb1f0ac",
   "metadata": {},
   "source": [
    "In this cell, fit both declared trees on the train set and predict values on the test set."
   ]
  },
  {
   "cell_type": "code",
   "execution_count": null,
   "id": "826f7e9e",
   "metadata": {},
   "outputs": [],
   "source": [
    "# FILL HERE"
   ]
  },
  {
   "cell_type": "markdown",
   "id": "a3ecdffe",
   "metadata": {},
   "source": [
    "Plot confusion matrix for both decision trees."
   ]
  },
  {
   "cell_type": "code",
   "execution_count": null,
   "id": "a895cd05",
   "metadata": {},
   "outputs": [],
   "source": [
    "# FILL HERE"
   ]
  },
  {
   "cell_type": "markdown",
   "id": "40e9f01f",
   "metadata": {},
   "source": [
    "### Part 2 : Let's add maximum depth!"
   ]
  },
  {
   "cell_type": "markdown",
   "id": "819b7033",
   "metadata": {},
   "source": [
    "Define an array of different maximum depths"
   ]
  },
  {
   "cell_type": "code",
   "execution_count": null,
   "id": "6934e715",
   "metadata": {},
   "outputs": [],
   "source": [
    "max_depths = [] # FILL THIS LIST WITH DESIRED VALUES\n",
    "accuracy_scores = []\n",
    "\n",
    "for max_depth in max_depths:\n",
    "    dt = DecisionTree(criterion='entropy',max_depth=max_depth) # Feel free to change the \"entropy\" to the \"gini\"\n",
    "    \n",
    "    # FIT declared tree to the train set and predict values on the test set. then calcualte accuracy score on the test set\n",
    "    # Feel free to use the sklearn moudle for calcualting accuracy score.\n",
    "    \n",
    "    \n",
    "    accuracy_score = # FILL HERE\n",
    "    accuracy_scores.append(accuracy_score)"
   ]
  },
  {
   "cell_type": "code",
   "execution_count": null,
   "id": "a8f43ec3",
   "metadata": {},
   "outputs": [],
   "source": [
    "for depth, score in zip(max_depths, accuracy_scores):\n",
    "    print(f\"Depth : {depth}, Accuracy : {score}\")"
   ]
  },
  {
   "cell_type": "markdown",
   "id": "a7e81c1d",
   "metadata": {},
   "source": [
    "Now compare the accuracy score of decision trees with and without using the \"max_depth\" parameter and discuss the effects of limiting the maximum depth of decision trees."
   ]
  },
  {
   "cell_type": "code",
   "execution_count": null,
   "id": "475fa1c7",
   "metadata": {},
   "outputs": [],
   "source": []
  }
 ],
 "metadata": {
  "kernelspec": {
   "display_name": "Python 3",
   "language": "python",
   "name": "python3"
  },
  "language_info": {
   "codemirror_mode": {
    "name": "ipython",
    "version": 3
   },
   "file_extension": ".py",
   "mimetype": "text/x-python",
   "name": "python",
   "nbconvert_exporter": "python",
   "pygments_lexer": "ipython3",
   "version": "3.9.5"
  },
  "vscode": {
   "interpreter": {
    "hash": "b8bdd4e700647ba2b08c59e5df8b7da1dcf50a218bcd4c1bcd9b3dc92e8788e5"
   }
  }
 },
 "nbformat": 4,
 "nbformat_minor": 5
}
